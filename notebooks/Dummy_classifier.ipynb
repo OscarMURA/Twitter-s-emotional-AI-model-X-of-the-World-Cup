{
  "cells": [
    {
      "cell_type": "markdown",
      "metadata": {
        "id": "ZUGSJ2RC0K5Z"
      },
      "source": [
        "# DummyClassifier para análisis de sentimiento\n",
        "Este notebook entrena un modelo de línea base usando DummyClassifier sobre el dataset preprocesado de tweets del Mundial Qatar 2022."
      ]
    },
    {
      "cell_type": "code",
      "metadata": {
        "colab": {
          "base_uri": "https://localhost:8080/"
        },
        "id": "zNqscLut0K5c",
        "outputId": "4c824c60-8ccb-4e63-aadc-72550d3bba88"
      },
      "source": [
        "import pandas as pd\n",
        "from sklearn.model_selection import train_test_split\n",
        "from sklearn.preprocessing import LabelEncoder\n",
        "from sklearn.feature_extraction.text import CountVectorizer\n",
        "from sklearn.dummy import DummyClassifier\n",
        "from sklearn.metrics import accuracy_score, precision_score, recall_score, f1_score, classification_report\n",
        "\n",
        "# Cargar el CSV limpio\n",
        "df = pd.read_csv(\"fifa_tweets_clean.csv\")\n",
        "df = df[df['clean_tweet'].str.strip() != '']\n",
        "\n",
        "df = df.dropna(subset=['clean_tweet'])  # elimina filas con NaN en clean_tweet\n",
        "\n",
        "df = df.dropna(subset=['Sentiment'])  # eliminar filas sin etiqueta\n",
        "\n",
        "# Codificar etiquetas\n",
        "label_encoder = LabelEncoder()\n",
        "df['Sentiment_encoded'] = label_encoder.fit_transform(df['Sentiment'])\n",
        "\n",
        "# Vectorizar el texto (Bag of Words)\n",
        "vectorizer = CountVectorizer()\n",
        "X = vectorizer.fit_transform(df['clean_tweet'])\n",
        "y = df['Sentiment_encoded']\n",
        "\n",
        "# Dividir en entrenamiento y prueba\n",
        "X_train, X_test, y_train, y_test = train_test_split(X, y, test_size=0.2, random_state=42)\n",
        "\n",
        "# Entrenar DummyClassifier\n",
        "dummy = DummyClassifier(strategy=\"most_frequent\")\n",
        "dummy.fit(X_train, y_train)\n",
        "y_pred = dummy.predict(X_test)\n",
        "\n",
        "from sklearn.metrics import (\n",
        "    accuracy_score, precision_score, recall_score, f1_score, classification_report\n",
        ")\n",
        "\n",
        "# Métricas con zero_division=0\n",
        "print(\"Accuracy:\", accuracy_score(y_test, y_pred))\n",
        "print(\"Precision:\", precision_score(y_test, y_pred, average='macro', zero_division=0))\n",
        "print(\"Recall:\", recall_score(y_test, y_pred, average='macro', zero_division=0))\n",
        "print(\"F1-score:\", f1_score(y_test, y_pred, average='macro', zero_division=0))\n",
        "print(\"\\nClassification Report:\\n\")\n",
        "print(classification_report(y_test, y_pred, target_names=label_encoder.classes_, zero_division=0))\n"
      ],
      "execution_count": 5,
      "outputs": [
        {
          "output_type": "stream",
          "name": "stdout",
          "text": [
            "Accuracy: 0.35753908219868885\n",
            "Precision: 0.11917969406622962\n",
            "Recall: 0.3333333333333333\n",
            "F1-score: 0.1755819712729074\n",
            "\n",
            "Classification Report:\n",
            "\n",
            "              precision    recall  f1-score   support\n",
            "\n",
            "    negative       0.00      0.00      0.00       600\n",
            "     neutral       0.00      0.00      0.00       674\n",
            "    positive       0.36      1.00      0.53       709\n",
            "\n",
            "    accuracy                           0.36      1983\n",
            "   macro avg       0.12      0.33      0.18      1983\n",
            "weighted avg       0.13      0.36      0.19      1983\n",
            "\n"
          ]
        }
      ]
    },
    {
      "cell_type": "markdown",
      "source": [
        "El DummyClassifier sirvió como una línea base para evaluar modelos más complejos. Sus métricas reflejan un rendimiento muy pobre, con total incapacidad para predecir correctamente las clases neutral y negative. Esto es coherente con su estrategia de predecir siempre la clase mayoritaria (positive). Cualquier modelo real deberá superar estas métricas mínimas para considerarse útil.\n",
        "\n"
      ],
      "metadata": {
        "id": "C7h_Dw1LIFI4"
      }
    }
  ],
  "metadata": {
    "kernelspec": {
      "display_name": "Python 3",
      "language": "python",
      "name": "python3"
    },
    "language_info": {
      "name": "python",
      "version": "3.11"
    },
    "colab": {
      "provenance": []
    }
  },
  "nbformat": 4,
  "nbformat_minor": 0
}