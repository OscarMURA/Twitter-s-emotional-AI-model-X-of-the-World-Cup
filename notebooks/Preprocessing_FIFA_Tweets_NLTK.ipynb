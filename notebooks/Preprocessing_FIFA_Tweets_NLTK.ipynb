{
  "cells": [
    {
      "cell_type": "markdown",
      "metadata": {
        "id": "DIxnzleDxxGL"
      },
      "source": [
        "# FIFA World Cup 2022 Tweets - Limpieza y Preprocesamiento con NLTK"
      ]
    },
    {
      "cell_type": "code",
      "source": [
        "import nltk\n",
        "nltk.download('punkt')\n",
        "nltk.download('stopwords')\n",
        "nltk.download('punkt_tab')  # Esto normalmente no es necesario, pero lo forzamos por el error"
      ],
      "metadata": {
        "colab": {
          "base_uri": "https://localhost:8080/"
        },
        "id": "ai5Pzk0jyTxu",
        "outputId": "2e42fae8-a97b-45d0-bc8b-7d0f34c08664"
      },
      "execution_count": 5,
      "outputs": [
        {
          "output_type": "stream",
          "name": "stderr",
          "text": [
            "[nltk_data] Downloading package punkt to /root/nltk_data...\n",
            "[nltk_data]   Package punkt is already up-to-date!\n",
            "[nltk_data] Downloading package stopwords to /root/nltk_data...\n",
            "[nltk_data]   Package stopwords is already up-to-date!\n",
            "[nltk_data] Downloading package punkt_tab to /root/nltk_data...\n",
            "[nltk_data]   Package punkt_tab is already up-to-date!\n"
          ]
        },
        {
          "output_type": "execute_result",
          "data": {
            "text/plain": [
              "True"
            ]
          },
          "metadata": {},
          "execution_count": 5
        }
      ]
    },
    {
      "cell_type": "code",
      "metadata": {
        "colab": {
          "base_uri": "https://localhost:8080/"
        },
        "id": "2znmshTcxxGN",
        "outputId": "6d074d2c-7d5d-42d9-b5d5-13641fe06b92"
      },
      "source": [
        "import pandas as pd\n",
        "import csv\n",
        "import nltk\n",
        "from nltk.corpus import stopwords\n",
        "from nltk.tokenize import word_tokenize\n",
        "import string\n",
        "\n",
        "# Descargar recursos\n",
        "nltk.download('punkt')\n",
        "nltk.download('stopwords')\n",
        "\n",
        "# Leer CSV\n",
        "df = pd.read_csv(\n",
        "    \"fifa_world_cup_2022_tweets.csv\",\n",
        "    encoding=\"ISO-8859-1\",\n",
        "    sep=\",\",\n",
        "    quoting=csv.QUOTE_MINIMAL,\n",
        "    on_bad_lines=\"skip\"\n",
        ")\n",
        "\n",
        "# Renombrar columnas\n",
        "df.columns = ['index', 'Date Created', 'Number of Likes', 'Source of Tweet', 'Tweet', 'Sentiment_raw']\n",
        "\n",
        "# Extraer sentimiento\n",
        "df['Sentiment'] = df['Sentiment_raw'].str.extract(r'(positive|neutral|negative)', expand=False)\n",
        "df = df.drop(columns=['index', 'Sentiment_raw'])\n",
        "\n",
        "# Configurar stopwords\n",
        "stop_words = set(stopwords.words('english'))\n",
        "\n",
        "# Función de limpieza\n",
        "def clean_text(text):\n",
        "    if isinstance(text, str):\n",
        "        tokens = word_tokenize(text.lower())\n",
        "        tokens = [t for t in tokens if t.isalpha()]\n",
        "        tokens = [t for t in tokens if t not in stop_words]\n",
        "        return \" \".join(tokens)\n",
        "    return \"\"\n",
        "\n",
        "# Aplicar limpieza\n",
        "df['clean_tweet'] = df['Tweet'].apply(clean_text)\n",
        "\n",
        "# Vista previa\n",
        "print(df[['clean_tweet', 'Sentiment']].sample(5))\n",
        "\n",
        "# Guardar CSV limpio\n",
        "df.to_csv(\"fifa_tweets_clean.csv\", index=False)\n",
        "print(\"✅ Archivo limpio guardado como fifa_tweets_clean.csv\")"
      ],
      "execution_count": 7,
      "outputs": [
        {
          "output_type": "stream",
          "name": "stderr",
          "text": [
            "[nltk_data] Downloading package punkt to /root/nltk_data...\n",
            "[nltk_data]   Package punkt is already up-to-date!\n",
            "[nltk_data] Downloading package stopwords to /root/nltk_data...\n",
            "[nltk_data]   Package stopwords is already up-to-date!\n"
          ]
        },
        {
          "output_type": "stream",
          "name": "stdout",
          "text": [
            "      clean_tweet Sentiment\n",
            "26716                   NaN\n",
            "34181                   NaN\n",
            "7981                    NaN\n",
            "3688                    NaN\n",
            "48879                   NaN\n",
            "✅ Archivo limpio guardado como fifa_tweets_clean.csv\n"
          ]
        }
      ]
    }
  ],
  "metadata": {
    "kernelspec": {
      "display_name": "Python 3",
      "language": "python",
      "name": "python3"
    },
    "language_info": {
      "name": "python",
      "version": "3.11"
    },
    "colab": {
      "provenance": []
    }
  },
  "nbformat": 4,
  "nbformat_minor": 0
}